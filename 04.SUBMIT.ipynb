{
 "cells": [
  {
   "cell_type": "markdown",
   "metadata": {},
   "source": [
    "# SUBMIT"
   ]
  },
  {
   "cell_type": "markdown",
   "metadata": {},
   "source": [
    "## 패키지 및 데이터 불러오기"
   ]
  },
  {
   "cell_type": "markdown",
   "metadata": {},
   "source": [
    "### 패키지 불러오기"
   ]
  },
  {
   "cell_type": "code",
   "execution_count": 90,
   "metadata": {},
   "outputs": [],
   "source": [
    "# Data Handling\n",
    "import pandas as pd\n",
    "import numpy as np\n",
    "\n",
    "# imputation\n",
    "from sklearn.ensemble import RandomForestRegressor\n",
    "from sklearn.experimental import enable_iterative_imputer\n",
    "from sklearn.impute import IterativeImputer\n",
    "\n",
    "# visualization\n",
    "import matplotlib.pyplot as plt\n",
    "\n",
    "# catboost regressor package\n",
    "from catboost import CatBoostClassifier\n",
    "\n",
    "# ensemble model\n",
    "from sklearn.ensemble import VotingClassifier"
   ]
  },
  {
   "cell_type": "markdown",
   "metadata": {},
   "source": [
    "### 데이터 불러오기"
   ]
  },
  {
   "cell_type": "code",
   "execution_count": 91,
   "metadata": {},
   "outputs": [],
   "source": [
    "# 데이터 불러오기\n",
    "train = pd.read_csv(\"C:/bad_web/data/train_dataset.csv\")\n",
    "test = pd.read_csv(\"C:/bad_web/data/test_dataset_v01.csv\")\n",
    "submission = pd.read_csv(\"C:/bad_web/data/sample_submission.csv\")\n",
    "\n",
    "# 필요없는 열 제거\n",
    "train.drop(columns = ['Unnamed: 0'], inplace = True)\n",
    "test.drop(columns = ['Unnamed: 0'], inplace = True)\n",
    "\n",
    "# 악성이면 1, 정상이면 1로 바꾸기\n",
    "train['Result_v1'] = train['Result_v1'].apply(lambda x: -1 if x == 'malicious' else 1)"
   ]
  },
  {
   "cell_type": "markdown",
   "metadata": {},
   "source": [
    "## 데이터 셋 모델링"
   ]
  },
  {
   "cell_type": "code",
   "execution_count": 94,
   "metadata": {},
   "outputs": [],
   "source": [
    "# 데이터 셋 모델링\n",
    "def select_dataset(data,config,train) :\n",
    "    \"\"\"\n",
    "    config : dict\n",
    "    \"\"\"\n",
    "    \n",
    "    data.reset_index(drop = True, inplace = True)\n",
    "\n",
    "    # one_columns\n",
    "    one_columns = ['url_chinese_present',\"html_num_tags('applet')\"]\n",
    "\n",
    "    # one_distribute\n",
    "    one_distribute = ['url_query_len','url_num_query_para']\n",
    "\n",
    "    # all_columns\n",
    "    all_columns = list(data.columns)\n",
    "    \n",
    "    if config['one_column_on'] == False :\n",
    "        for i in one_columns :\n",
    "            all_columns.remove(i)\n",
    "        \n",
    "    if config['url_len_off'] == False :\n",
    "        all_columns.remove('url_len')\n",
    "    \n",
    "    if config['url_entropy_off'] == False :\n",
    "        all_columns.remove('url_entropy')\n",
    "    \n",
    "    if config['url_port_off'] == False :\n",
    "        all_columns.remove('url_port')\n",
    "    \n",
    "    if config['iframe_off'] == False :\n",
    "        all_columns.remove(\"html_num_tags('iframe')\")\n",
    "    \n",
    "    if config['head_off'] == False :\n",
    "        all_columns.remove(\"html_num_tags('head')\")\n",
    "    \n",
    "    if config['body_off'] == False :\n",
    "        all_columns.remove(\"html_num_tags('body')\")\n",
    "        \n",
    "    \n",
    "    if config['one_distribute_on'] == False :\n",
    "        for i in one_distribute :\n",
    "            all_columns.remove(i)\n",
    "\n",
    "    data = data[all_columns]\n",
    "\n",
    "    if config['drop_duplicate'] == True :\n",
    "        data.drop_duplicates(inplace = True)\n",
    "        data.reset_index(drop = True, inplace = True)\n",
    "    \n",
    "    if (config['missing_imput'] == True) and (train == True) :\n",
    "        X = data.drop(columns = [\"Result_v1\"])\n",
    "        y = data[\"Result_v1\"]\n",
    "        imp = IterativeImputer(estimator = RandomForestRegressor(verbose=0, random_state = 42),\n",
    "                               max_iter=10,\n",
    "                               verbose = 0,\n",
    "                               imputation_order= 'ascending',\n",
    "                               random_state=0)\n",
    "        X_imp=pd.DataFrame(imp.fit_transform(X))\n",
    "        X_imp.columns = X.columns\n",
    "        data = pd.concat([X_imp,y], axis = 1)\n",
    "        \n",
    "    \n",
    "    if (config['missing_imput'] == True) and (train == False) :\n",
    "        X = data\n",
    "        imp = IterativeImputer(estimator = RandomForestRegressor(verbose=0, random_state = 42),\n",
    "                               max_iter=10,\n",
    "                               verbose = 0,\n",
    "                               imputation_order= 'ascending',\n",
    "                               random_state=0)\n",
    "        X_imp=pd.DataFrame(imp.fit_transform(X))\n",
    "        X_imp.columns = X.columns\n",
    "        data = X_imp\n",
    "    \n",
    "    return data"
   ]
  },
  {
   "cell_type": "code",
   "execution_count": 95,
   "metadata": {},
   "outputs": [],
   "source": [
    "# 데이터 셋 환경설정\n",
    "config = dict()\n",
    "config['one_column_on'] =True \n",
    "config['url_len_off'] =True\n",
    "config['url_entropy_off'] =True\n",
    "config['url_port_off'] =True \n",
    "config['iframe_off'] =True\n",
    "config['head_off'] =True\n",
    "config['body_off'] =True\n",
    "config['one_distribute_on'] =True\n",
    "config['drop_duplicate'] =False\n",
    "config['missing_imput'] =True"
   ]
  },
  {
   "cell_type": "code",
   "execution_count": null,
   "metadata": {},
   "outputs": [],
   "source": [
    "# 데이터 셋 모델링\n",
    "train = select_dataset(train,config,True)\n",
    "test = select_dataset(test,config,False)\n",
    "\n",
    "# feautures, target 분리\n",
    "X = train.drop(columns = ['Result_v1'])\n",
    "y = train['Result_v1']"
   ]
  },
  {
   "cell_type": "markdown",
   "metadata": {},
   "source": [
    "## 베이지안 옵티마이저 결과를 이용한 모델 학습 및 예측"
   ]
  },
  {
   "cell_type": "code",
   "execution_count": 98,
   "metadata": {},
   "outputs": [],
   "source": [
    "# 베이지안 옵티마이저 결과\n",
    "# |   iter    |  target   | baggin... |   depth   | learni... | subsample |\n",
    "# -------------------------------------------------------------------------\n",
    "# |  1        |  0.9686   |  4.753    |  11.8     |  0.01011  |  0.3093   |\n",
    "# |  2        |  0.9611   |  2.321    |  2.385    |  0.1944   |  0.3521   |\n",
    "# |  3        |  0.9632   |  4.571    |  9.082    |  0.425    |  0.6884   |\n",
    "# |  4        |  0.968    |  2.84     |  14.17    |  0.03711  |  0.6738   |\n",
    "# |  5        |  0.9658   |  4.756    |  9.38     |  0.149    |  0.2061   |\n",
    "# |  6        |  0.961    |  1.069    |  3.428    |  0.7123   |  0.7671   |\n",
    "# |  7        |  0.9686   |  5.675    |  14.44    |  0.4161   |  0.1487   |\n",
    "# |  8        |  0.9682   |  7.914    |  12.06    |  0.02387  |  0.1831   |"
   ]
  },
  {
   "cell_type": "code",
   "execution_count": 118,
   "metadata": {},
   "outputs": [],
   "source": [
    "# 앙상블 할 각각의 모형 정의하기\n",
    "cat1 = CatBoostClassifier(bagging_temperature =7.914, depth = 12, learning_rate = 0.02387, subsample = 0.1831,random_state=1339,verbose = 0,eval_metric='F1')\n",
    "cat2 = CatBoostClassifier(bagging_temperature =5.675, depth = 14, learning_rate = 0.4161, subsample = 0.1487,random_state=1339,verbose = 0,eval_metric='F1')\n",
    "\n",
    "# 앙상블 모형 정의하기\n",
    "eclf = VotingClassifier(estimators=[\n",
    "         ('cat1', cat1), ('cat2', cat2)],\n",
    "         voting='soft')\n",
    "\n",
    "# 모델 학습하기\n",
    "eclf.fit(X,y)\n",
    "\n",
    "# 예측한 후 저장하기\n",
    "predict = eclf.predict(test)\n",
    "submit = pd.read_csv(\"C:/bad_web/data/sample_submission.csv\")\n",
    "submit['expected'] = predict\n",
    "submit.to_csv(\"C:/bad_web/cat_esb_best2.csv\", index = False)"
   ]
  }
 ],
 "metadata": {
  "kernelspec": {
   "display_name": "Python 3.9.12 ('env')",
   "language": "python",
   "name": "python3"
  },
  "language_info": {
   "codemirror_mode": {
    "name": "ipython",
    "version": 3
   },
   "file_extension": ".py",
   "mimetype": "text/x-python",
   "name": "python",
   "nbconvert_exporter": "python",
   "pygments_lexer": "ipython3",
   "version": "3.9.12"
  },
  "orig_nbformat": 4,
  "vscode": {
   "interpreter": {
    "hash": "c8c8540e0960871b600e3f40e1e37dd4369b4892e9ee484b4784a47d7408b04b"
   }
  }
 },
 "nbformat": 4,
 "nbformat_minor": 2
}
