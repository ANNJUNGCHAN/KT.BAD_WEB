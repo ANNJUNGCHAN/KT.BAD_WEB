{
 "cells": [
  {
   "cell_type": "markdown",
   "metadata": {},
   "source": [
    "# Bayesian-Optimization"
   ]
  },
  {
   "cell_type": "markdown",
   "metadata": {},
   "source": [
    "## 패키지 로딩 및 데이터 로딩"
   ]
  },
  {
   "cell_type": "markdown",
   "metadata": {},
   "source": [
    "### 패키지 로딩"
   ]
  },
  {
   "cell_type": "code",
   "execution_count": 1,
   "metadata": {},
   "outputs": [],
   "source": [
    "# data handling\n",
    "import numpy as np\n",
    "import pandas as pd\n",
    "\n",
    "# imputation\n",
    "from sklearn.ensemble import RandomForestRegressor\n",
    "from sklearn.experimental import enable_iterative_imputer\n",
    "from sklearn.impute import IterativeImputer\n",
    "\n",
    "# scoring\n",
    "import sklearn.metrics as metrics\n",
    "from sklearn.model_selection import KFold\n",
    "from sklearn.model_selection import train_test_split\n",
    "\n",
    "# use model\n",
    "from catboost import CatBoostClassifier\n",
    "\n",
    "# bayesian optimization\n",
    "from bayes_opt import BayesianOptimization\n",
    "\n",
    "# make events\n",
    "from itertools import product\n",
    "\n",
    "# ignore warnings\n",
    "import warnings\n",
    "warnings.filterwarnings(\"ignore\")"
   ]
  },
  {
   "cell_type": "markdown",
   "metadata": {},
   "source": [
    "### 데이터 로딩"
   ]
  },
  {
   "cell_type": "code",
   "execution_count": 2,
   "metadata": {},
   "outputs": [],
   "source": [
    "data = pd.read_csv('C:/bad_web/data/train_dataset.csv')\n",
    "data.drop(columns = ['Unnamed: 0'], inplace = True)\n",
    "data['Result_v1'] = data['Result_v1'].apply(lambda x: -1 if x == 'malicious' else 1) # 1 - benign, -1 - malicious"
   ]
  },
  {
   "cell_type": "markdown",
   "metadata": {},
   "source": [
    "## Config\n",
    "- 데이터 셋 모델링 함수 구축\n",
    "- 앞전에 추출했던 성능이 가장 높게 나오는 경우의 수로 데이터 셋 구성"
   ]
  },
  {
   "cell_type": "code",
   "execution_count": 3,
   "metadata": {},
   "outputs": [],
   "source": [
    "# 데이터 셋 모델링\n",
    "def select_dataset(data,config) :\n",
    "    \"\"\"\n",
    "    config : dict\n",
    "    \"\"\"\n",
    "    \n",
    "    data.reset_index(drop = True, inplace = True)\n",
    "\n",
    "    # one_columns\n",
    "    one_columns = ['url_chinese_present',\"html_num_tags('applet')\"]\n",
    "\n",
    "    # one_distribute\n",
    "    one_distribute = ['url_query_len','url_num_query_para']\n",
    "\n",
    "    # all_columns\n",
    "    all_columns = list(data.columns)\n",
    "    \n",
    "    if config['one_column_on'] == False :\n",
    "        for i in one_columns :\n",
    "            all_columns.remove(i)\n",
    "        \n",
    "    if config['url_len_off'] == False :\n",
    "        all_columns.remove('url_len')\n",
    "    \n",
    "    if config['url_entropy_off'] == False :\n",
    "        all_columns.remove('url_entropy')\n",
    "    \n",
    "    if config['url_port_off'] == False :\n",
    "        all_columns.remove('url_port')\n",
    "    \n",
    "    if config['iframe_off'] == False :\n",
    "        all_columns.remove(\"html_num_tags('iframe')\")\n",
    "    \n",
    "    if config['head_off'] == False :\n",
    "        all_columns.remove(\"html_num_tags('head')\")\n",
    "    \n",
    "    if config['body_off'] == False :\n",
    "        all_columns.remove(\"html_num_tags('body')\")\n",
    "        \n",
    "    \n",
    "    if config['one_distribute_on'] == False :\n",
    "        for i in one_distribute :\n",
    "            all_columns.remove(i)\n",
    "\n",
    "    data = data[all_columns]\n",
    "\n",
    "    if config['drop_duplicate'] == True :\n",
    "        data.drop_duplicates(inplace = True)\n",
    "        data.reset_index(drop = True, inplace = True)\n",
    "    \n",
    "    if config['missing_imput'] == True :\n",
    "        X = data.drop(columns = [\"Result_v1\"])\n",
    "        y = data[\"Result_v1\"]\n",
    "        imp = IterativeImputer(estimator = RandomForestRegressor(verbose=0, random_state = 42),\n",
    "                               max_iter=10,\n",
    "                               verbose = 0,\n",
    "                               imputation_order= 'ascending',\n",
    "                               random_state=0)\n",
    "        X_imp=pd.DataFrame(imp.fit_transform(X))\n",
    "        X_imp.columns = X.columns\n",
    "        data = pd.concat([X_imp,y], axis = 1)\n",
    "        \n",
    "    else :\n",
    "        data = data.dropna()\n",
    "        data = data.reset_index(drop = True)\n",
    "\n",
    "    return data"
   ]
  },
  {
   "cell_type": "code",
   "execution_count": 5,
   "metadata": {},
   "outputs": [],
   "source": [
    "# 성능이 가장 높게 나온 경우의 수로 config 설정\n",
    "# | iter                                                                     | f1\n",
    "# | (False, False, True, False, True, True, False, True, False, True, 'NONE')| 0.965608466\n",
    "config = dict()\n",
    "config['one_column_on'] =False \n",
    "config['url_len_off'] =False\n",
    "config['url_entropy_off'] =True\n",
    "config['url_port_off'] =False \n",
    "config['iframe_off'] =True\n",
    "config['head_off'] =True\n",
    "config['body_off'] =False\n",
    "config['one_distribute_on'] =True\n",
    "config['drop_duplicate'] =False\n",
    "config['missing_imput'] =True"
   ]
  },
  {
   "cell_type": "code",
   "execution_count": 6,
   "metadata": {},
   "outputs": [],
   "source": [
    "# 데이터 셋 만들기\n",
    "data = select_dataset(data,config)"
   ]
  },
  {
   "cell_type": "code",
   "execution_count": 7,
   "metadata": {},
   "outputs": [],
   "source": [
    "# feature, target 분리\n",
    "X = data.drop(columns = [\"Result_v1\"])\n",
    "y = data['Result_v1']"
   ]
  },
  {
   "cell_type": "markdown",
   "metadata": {},
   "source": [
    "## FOLD 5 교차검증"
   ]
  },
  {
   "cell_type": "markdown",
   "metadata": {},
   "source": [
    "### 모델 fitting 함수 만들기"
   ]
  },
  {
   "cell_type": "code",
   "execution_count": 8,
   "metadata": {},
   "outputs": [],
   "source": [
    "def fit_model(X,y,X_test,i,depth,bagging_temperature,learning_rate,subsample):\n",
    "    cat_model = CatBoostClassifier(depth = int(depth),\n",
    "                                  bagging_temperature=bagging_temperature,\n",
    "                                  learning_rate=learning_rate,\n",
    "                                  random_state=1339,#\n",
    "                                  verbose=0,#\n",
    "                                  subsample=subsample,\n",
    "                                  eval_metric='F1'\n",
    "                                  ).fit(X,y)\n",
    "    cat_predict = cat_model.predict(X_test)\n",
    "    return cat_predict"
   ]
  },
  {
   "cell_type": "markdown",
   "metadata": {},
   "source": [
    "### FOLD 5 교차검증 함수 만들기"
   ]
  },
  {
   "cell_type": "code",
   "execution_count": 9,
   "metadata": {},
   "outputs": [],
   "source": [
    "def CAT_cv(depth,bagging_temperature,learning_rate,subsample):\n",
    "\n",
    "    # KOLD CV\n",
    "    kf=KFold(5,shuffle=True,random_state=1339)\n",
    "    score = 0\n",
    "    i=0\n",
    "    for train_index,val_index in kf.split(X,y):\n",
    "        i+=1\n",
    "        X_train,X_val=X.iloc[train_index],X.iloc[val_index]\n",
    "        y_train,y_val=y.iloc[train_index],y.iloc[val_index]\n",
    "        cat_predict = fit_model(np.array(X_train),np.array(y_train),np.array(X_val),i,depth,bagging_temperature,learning_rate,subsample)\n",
    "        score += metrics.f1_score(np.array(y_val),cat_predict)\n",
    "\n",
    "    return score/5"
   ]
  },
  {
   "cell_type": "markdown",
   "metadata": {},
   "source": [
    "## Bayesian Optimization"
   ]
  },
  {
   "cell_type": "code",
   "execution_count": 10,
   "metadata": {},
   "outputs": [],
   "source": [
    "# pbounds : 하이퍼 파라미터들의 범위 설정하기\n",
    "\n",
    "pbounds = { 'depth': (1, 16),\n",
    "            'bagging_temperature': (1, 10),\n",
    "            'learning_rate': (0.01, 1.0),\n",
    "            'subsample' : (0.01,1),\n",
    "            }"
   ]
  },
  {
   "cell_type": "code",
   "execution_count": null,
   "metadata": {},
   "outputs": [],
   "source": [
    "# 베이지안 옵티마이저 fitting\n",
    "bo = BayesianOptimization(f = CAT_cv, pbounds = pbounds, random_state = 1,verbose = 2)\n",
    "bo.maximize(init_points = 5, n_iter = 10,acq = 'ei',xi = 0.01)"
   ]
  }
 ],
 "metadata": {
  "kernelspec": {
   "display_name": "Python 3.9.12 ('env')",
   "language": "python",
   "name": "python3"
  },
  "language_info": {
   "codemirror_mode": {
    "name": "ipython",
    "version": 3
   },
   "file_extension": ".py",
   "mimetype": "text/x-python",
   "name": "python",
   "nbconvert_exporter": "python",
   "pygments_lexer": "ipython3",
   "version": "3.9.12"
  },
  "orig_nbformat": 4,
  "vscode": {
   "interpreter": {
    "hash": "c8c8540e0960871b600e3f40e1e37dd4369b4892e9ee484b4784a47d7408b04b"
   }
  }
 },
 "nbformat": 4,
 "nbformat_minor": 2
}
